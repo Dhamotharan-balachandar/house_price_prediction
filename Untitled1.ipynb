{
 "cells": [
  {
   "cell_type": "code",
   "execution_count": 2,
   "id": "5cdf50cf",
   "metadata": {},
   "outputs": [],
   "source": [
    "import tensorflow as tf\n",
    "import numpy as np\n",
    "import tensorflow_datasets as tdf"
   ]
  },
  {
   "cell_type": "code",
   "execution_count": 3,
   "id": "f5acfd76",
   "metadata": {},
   "outputs": [
    {
     "name": "stderr",
     "output_type": "stream",
     "text": [
      "WARNING:absl:Warning: Setting shuffle_files=True because split=TRAIN and shuffle_files=None. This behavior will be deprecated on 2019-08-06, at which point shuffle_files=False will be the default for all splits.\n"
     ]
    }
   ],
   "source": [
    "mnist_data,mnist_info = tdf.load(name='mnist',with_info=True,as_supervised=True)"
   ]
  },
  {
   "cell_type": "code",
   "execution_count": 4,
   "id": "4dcbf9ab",
   "metadata": {},
   "outputs": [],
   "source": [
    "mnist_validation = 0.1*mnist_info.splits['train'].num_examples\n",
    "mnist_validation = tf.cast(mnist_validation,tf.int64)"
   ]
  },
  {
   "cell_type": "code",
   "execution_count": 5,
   "id": "1488af7b",
   "metadata": {},
   "outputs": [],
   "source": [
    "mnist_test = 0.1*mnist_info.splits['test'].num_examples\n",
    "mnist_test = tf.cast(mnist_test,tf.int64)"
   ]
  },
  {
   "cell_type": "code",
   "execution_count": 6,
   "id": "7fa7a4ef",
   "metadata": {},
   "outputs": [],
   "source": [
    "def scale(image,label):\n",
    "    image=tf.cast(image,tf.float32)\n",
    "    image/=255.\n",
    "    return image,label\n",
    "\n",
    "scaled_data = mnist_data['train'].map(scale)\n",
    "scaled_test = mnist_data['test'].map(scale)"
   ]
  },
  {
   "cell_type": "code",
   "execution_count": 7,
   "id": "2d996531",
   "metadata": {},
   "outputs": [],
   "source": [
    "validation_data = scaled_data.take(mnist_validation)"
   ]
  },
  {
   "cell_type": "code",
   "execution_count": 8,
   "id": "9be05463",
   "metadata": {},
   "outputs": [],
   "source": [
    "train_data = scaled_data.skip(mnist_validation)"
   ]
  },
  {
   "cell_type": "code",
   "execution_count": 9,
   "id": "e14f9cf3",
   "metadata": {},
   "outputs": [],
   "source": [
    "train_data = train_data.batch(6000)"
   ]
  },
  {
   "cell_type": "code",
   "execution_count": 10,
   "id": "3489c5fd",
   "metadata": {},
   "outputs": [],
   "source": [
    "validation_data = validation_data.batch(mnist_validation)"
   ]
  },
  {
   "cell_type": "code",
   "execution_count": 11,
   "id": "8b021f28",
   "metadata": {},
   "outputs": [],
   "source": [
    "validation_inputs, validation_outputs = next(iter(validation_data))"
   ]
  },
  {
   "cell_type": "code",
   "execution_count": 12,
   "id": "e6dc36fa",
   "metadata": {},
   "outputs": [],
   "source": [
    "model = tf.keras.Sequential([\n",
    "                        tf.keras.layers.Flatten(input_shape=(28,28,1)),\n",
    "                        tf.keras.layers.Dense(100,activation='relu'),\n",
    "                        tf.keras.layers.Dense(100,activation='relu'),\n",
    "                        tf.keras.layers.Dense(10,activation='softmax')\n",
    "])"
   ]
  },
  {
   "cell_type": "code",
   "execution_count": 13,
   "id": "e9a70360",
   "metadata": {},
   "outputs": [],
   "source": [
    "model.compile(optimizer='adam',loss='mean_squared_error',metrics=['accuracy'])\n",
    "import keras"
   ]
  },
  {
   "cell_type": "code",
   "execution_count": 14,
   "id": "d803216b",
   "metadata": {},
   "outputs": [
    {
     "name": "stdout",
     "output_type": "stream",
     "text": [
      "Epoch 1/5\n",
      "9/9 - 7s - loss: 27.3267 - accuracy: 0.0886 - val_loss: 27.1180 - val_accuracy: 0.0832 - 7s/epoch - 752ms/step\n",
      "Epoch 2/5\n",
      "9/9 - 4s - loss: 27.3237 - accuracy: 0.0849 - val_loss: 27.1180 - val_accuracy: 0.0870 - 4s/epoch - 486ms/step\n",
      "Epoch 3/5\n",
      "9/9 - 4s - loss: 27.3240 - accuracy: 0.0829 - val_loss: 27.1180 - val_accuracy: 0.0927 - 4s/epoch - 491ms/step\n",
      "Epoch 4/5\n",
      "9/9 - 4s - loss: 27.3225 - accuracy: 0.0902 - val_loss: 27.1179 - val_accuracy: 0.0975 - 4s/epoch - 441ms/step\n",
      "Epoch 5/5\n",
      "9/9 - 4s - loss: 27.3218 - accuracy: 0.0882 - val_loss: 27.1179 - val_accuracy: 0.0960 - 4s/epoch - 438ms/step\n"
     ]
    },
    {
     "data": {
      "text/plain": [
       "<keras.callbacks.History at 0x2199a1e1d80>"
      ]
     },
     "execution_count": 14,
     "metadata": {},
     "output_type": "execute_result"
    }
   ],
   "source": [
    "model.fit(train_data,epochs=5,validation_data=(validation_inputs,validation_outputs),verbose=2)"
   ]
  },
  {
   "cell_type": "code",
   "execution_count": 22,
   "id": "51a132e1",
   "metadata": {},
   "outputs": [
    {
     "name": "stdout",
     "output_type": "stream",
     "text": [
      "10/10 [==============================] - 1s 45ms/step - loss: 27.2503 - accuracy: 0.0798\n"
     ]
    },
    {
     "data": {
      "text/plain": [
       "[27.250328063964844, 0.07980000227689743]"
      ]
     },
     "execution_count": 22,
     "metadata": {},
     "output_type": "execute_result"
    }
   ],
   "source": [
    "test_data = scaled_test.batch(1000)\n",
    "model.evaluate(test_data)"
   ]
  },
  {
   "cell_type": "code",
   "execution_count": null,
   "id": "a68a1e35",
   "metadata": {},
   "outputs": [],
   "source": []
  }
 ],
 "metadata": {
  "kernelspec": {
   "display_name": "Python 3 (ipykernel)",
   "language": "python",
   "name": "python3"
  },
  "language_info": {
   "codemirror_mode": {
    "name": "ipython",
    "version": 3
   },
   "file_extension": ".py",
   "mimetype": "text/x-python",
   "name": "python",
   "nbconvert_exporter": "python",
   "pygments_lexer": "ipython3",
   "version": "3.10.9"
  }
 },
 "nbformat": 4,
 "nbformat_minor": 5
}
